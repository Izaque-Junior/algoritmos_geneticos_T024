{
 "cells": [
  {
   "cell_type": "code",
   "execution_count": 29,
   "id": "3234ba69-648d-4a69-af1d-272863b8b02c",
   "metadata": {},
   "outputs": [
    {
     "name": "stdout",
     "output_type": "stream",
     "text": [
      "matrix triangular Original:\n",
      "[[0 1 0 0 1 1 0]\n",
      " [0 0 0 1 1 1 0]\n",
      " [0 0 0 1 0 0 1]\n",
      " [0 0 0 0 0 0 1]\n",
      " [0 0 0 0 0 1 0]\n",
      " [0 0 0 0 0 0 1]\n",
      " [0 0 0 0 0 0 0]]\n",
      "Matriz triangular Mutada:\n",
      "[[0 1 0 0 1 1 0]\n",
      " [0 0 0 1 1 1 0]\n",
      " [0 0 0 1 0 0 1]\n",
      " [0 0 0 0 0 0 1]\n",
      " [0 0 0 0 0 0 0]\n",
      " [0 0 0 0 0 0 1]\n",
      " [0 0 0 0 0 0 0]]\n",
      "Hamiltoniano final:\n",
      "[[0 1 0 0 1 1 0]\n",
      " [1 0 0 1 1 1 0]\n",
      " [0 0 0 1 0 0 1]\n",
      " [0 1 1 0 0 0 1]\n",
      " [1 1 0 0 0 0 0]\n",
      " [1 1 0 0 0 0 1]\n",
      " [0 0 1 1 0 1 0]]\n"
     ]
    }
   ],
   "source": [
    "import numpy as np\n",
    "\n",
    "# Create an upper triangular binary matrix with the main diagonal set to 0's\n",
    "def create_upper_triangular_binary_matrix(size):\n",
    "    matrix = np.random.randint(2, size=(size, size))\n",
    "    np.fill_diagonal(matrix, 0)  # Set the main diagonal to 0's\n",
    "    upper_triangular_matrix = np.triu(matrix)\n",
    "    return upper_triangular_matrix\n",
    "\n",
    "# Mutate the matrix by flipping a randomly chosen element in the upper triangular part (excluding the main diagonal)\n",
    "def mutate_upper_triangular_binary(matrix):\n",
    "    size = matrix.shape[0]\n",
    "    \n",
    "    # Choose a random position in the upper triangular part (excluding the diagonal)\n",
    "    i = np.random.randint(0, size)\n",
    "    j = np.random.randint(i + 1, size)  # ensure j > i to stay above the main diagonal\n",
    "    \n",
    "    # Flip the chosen element's value (0 -> 1 or 1 -> 0)\n",
    "    matrix[i, j] = 1 - matrix[i, j]\n",
    "    \n",
    "    return matrix\n",
    "\n",
    "# Define the size of the matrix\n",
    "matrix_size = 7\n",
    "\n",
    "# Create an upper triangular binary matrix\n",
    "upper_triangular_matrix = create_upper_triangular_binary_matrix(matrix_size)\n",
    "\n",
    "print(\"matrix triangular Original:\")\n",
    "print(upper_triangular_matrix)\n",
    "\n",
    "# Perform mutation\n",
    "mutated_matrix = mutate_upper_triangular_binary(upper_triangular_matrix)\n",
    "\n",
    "print(\"Matriz triangular Mutada:\")\n",
    "print(mutated_matrix)\n",
    "\n",
    "# Create the final symmetric matrix and set the main diagonal to 0's\n",
    "hamiltoniano = mutated_matrix + mutated_matrix.T\n",
    "np.fill_diagonal(hamiltoniano, 0)\n",
    "\n",
    "print(\"Hamiltoniano final:\")\n",
    "print(hamiltoniano)\n"
   ]
  },
  {
   "cell_type": "code",
   "execution_count": 30,
   "id": "21879a22-3f80-417c-a370-2ad504e75cf2",
   "metadata": {},
   "outputs": [],
   "source": [
    "import numpy as np \n",
    "import networkx as nx\n",
    "def draw_graph(networkx_graph,notebook=True,output_filename='graph.html',show_buttons=True,only_physics_buttons=True):\n",
    "    \"\"\"\n",
    "    This function accepts a networkx graph object,\n",
    "    converts it to a pyvis network object preserving its node and edge attributes,\n",
    "    and both returns and saves a dynamic network visualization.\n",
    "    \n",
    "    Args:\n",
    "        networkx_graph: The graph to convert and display\n",
    "        notebook: Display in Jupyter?\n",
    "        output_filename: Where to save the converted network\n",
    "        show_buttons: Show buttons in saved version of network?\n",
    "        only_physics_buttons: Show only buttons controlling physics of network?\n",
    "    \"\"\"\n",
    "    \n",
    "    # import\n",
    "    from pyvis import network as net\n",
    "    \n",
    "    # make a pyvis network\n",
    "    pyvis_graph = net.Network(notebook=notebook)\n",
    "    \n",
    "    # for each node and its attributes in the networkx graph\n",
    "    for node,node_attrs in networkx_graph.nodes(data=True):\n",
    "        pyvis_graph.add_node(str(node),**node_attrs)\n",
    "        \n",
    "    # for each edge and its attributes in the networkx graph\n",
    "    for source,target,edge_attrs in networkx_graph.edges(data=True):\n",
    "        # if value/width not specified directly, and weight is specified, set 'value' to 'weight'\n",
    "        if not 'value' in edge_attrs and not 'width' in edge_attrs and 'weight' in edge_attrs:\n",
    "            # place at key 'value' the weight of the edge\n",
    "            edge_attrs['value']=edge_attrs['weight']\n",
    "        # add the edge\n",
    "        pyvis_graph.add_edge(str(source),str(target),**edge_attrs)\n",
    "        \n",
    "    # turn buttons on\n",
    "    if show_buttons:\n",
    "        if only_physics_buttons:\n",
    "            pyvis_graph.show_buttons(filter_=['physics'])\n",
    "        else:\n",
    "            pyvis_graph.show_buttons()\n",
    "    #net.repulsion(node_distance=500, spring_length=200)\n",
    "    # return and also save\n",
    "    return pyvis_graph.show(output_filename)\n",
    "\n"
   ]
  },
  {
   "cell_type": "code",
   "execution_count": 31,
   "id": "b0cfa88f-b949-4149-baf9-6407c5152d5c",
   "metadata": {},
   "outputs": [
    {
     "name": "stdout",
     "output_type": "stream",
     "text": [
      "Warning: When  cdn_resources is 'local' jupyter notebook has issues displaying graphics on chrome/safari. Use cdn_resources='in_line' or cdn_resources='remote' if you have issues viewing graphics in a notebook.\n",
      "graph.html\n"
     ]
    },
    {
     "data": {
      "text/html": [
       "\n",
       "        <iframe\n",
       "            width=\"100%\"\n",
       "            height=\"600px\"\n",
       "            src=\"graph.html\"\n",
       "            frameborder=\"0\"\n",
       "            allowfullscreen\n",
       "            \n",
       "        ></iframe>\n",
       "        "
      ],
      "text/plain": [
       "<IPython.lib.display.IFrame at 0x1edde8b1000>"
      ]
     },
     "execution_count": 31,
     "metadata": {},
     "output_type": "execute_result"
    }
   ],
   "source": [
    "draw_graph(nx.from_numpy_array(hamiltoniano))"
   ]
  },
  {
   "cell_type": "code",
   "execution_count": null,
   "id": "8c9591d2-2c87-459a-9ee7-1614215eb4a9",
   "metadata": {},
   "outputs": [],
   "source": []
  }
 ],
 "metadata": {
  "kernelspec": {
   "display_name": "Python 3 (ipykernel)",
   "language": "python",
   "name": "python3"
  },
  "language_info": {
   "codemirror_mode": {
    "name": "ipython",
    "version": 3
   },
   "file_extension": ".py",
   "mimetype": "text/x-python",
   "name": "python",
   "nbconvert_exporter": "python",
   "pygments_lexer": "ipython3",
   "version": "3.10.8"
  }
 },
 "nbformat": 4,
 "nbformat_minor": 5
}
