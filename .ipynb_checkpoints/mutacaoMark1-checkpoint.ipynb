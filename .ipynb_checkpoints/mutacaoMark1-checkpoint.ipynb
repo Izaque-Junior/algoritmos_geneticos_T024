{
 "cells": [
  {
   "cell_type": "code",
   "execution_count": 42,
   "id": "787f4260-2a38-439e-ba6c-20fe46e310c7",
   "metadata": {},
   "outputs": [
    {
     "name": "stdout",
     "output_type": "stream",
     "text": [
      "Original Matrix:\n",
      "[[0 1 1 0 0 1 1 1 0 1]\n",
      " [0 1 0 1 1 1 1 1 1 0]\n",
      " [0 0 0 0 0 0 0 0 0 1]\n",
      " [0 0 0 1 0 1 1 1 1 1]\n",
      " [0 0 0 0 0 0 0 0 1 1]\n",
      " [0 0 0 0 0 1 0 0 1 0]\n",
      " [0 0 0 0 0 0 1 1 1 0]\n",
      " [0 0 0 0 0 0 0 1 0 0]\n",
      " [0 0 0 0 0 0 0 0 1 1]\n",
      " [0 0 0 0 0 0 0 0 0 0]]\n",
      "Mutated Matrix:\n",
      "[[0 1 1 0 0 1 1 1 0 1]\n",
      " [0 1 0 1 1 1 1 1 1 0]\n",
      " [0 0 0 0 0 0 0 0 0 1]\n",
      " [0 0 0 1 0 1 1 1 1 1]\n",
      " [0 0 0 0 0 0 0 0 1 1]\n",
      " [0 0 0 0 0 1 0 0 1 0]\n",
      " [0 0 0 0 0 0 1 1 1 1]\n",
      " [0 0 0 0 0 0 0 1 0 0]\n",
      " [0 0 0 0 0 0 0 0 1 1]\n",
      " [0 0 0 0 0 0 0 0 0 0]]\n",
      "[[0 1 1 0 0 1 1 1 0 1]\n",
      " [1 2 0 1 1 1 1 1 1 0]\n",
      " [1 0 0 0 0 0 0 0 0 1]\n",
      " [0 1 0 2 0 1 1 1 1 1]\n",
      " [0 1 0 0 0 0 0 0 1 1]\n",
      " [1 1 0 1 0 2 0 0 1 0]\n",
      " [1 1 0 1 0 0 2 1 1 1]\n",
      " [1 1 0 1 0 0 1 2 0 0]\n",
      " [0 1 0 1 1 1 1 0 2 1]\n",
      " [1 0 1 1 1 0 1 0 1 0]]\n"
     ]
    }
   ],
   "source": [
    "import numpy as np\n",
    "\n",
    "#Cria uma matriz triangular superior\n",
    "\n",
    "def create_upper_triangular_binary_matrix(size):\n",
    "    matrix = np.random.randint(2,size=(size, size))\n",
    "    upper_triangular_matrix = np.triu(matrix)\n",
    "    return upper_triangular_matrix\n",
    "\n",
    "#muta a matrix triangular superior\n",
    "def mutate_upper_triangular_binary(matrix):\n",
    "    size = matrix.shape[0]\n",
    "    \n",
    "    # Choose a random position in the upper triangular part\n",
    "    i = np.random.randint(0, size)\n",
    "    j = np.random.randint(i, size)\n",
    "    \n",
    "    # Flip the chosen element's value (0 -> 1 or 1 -> 0)\n",
    "    matrix[i, j] = 1 - matrix[i, j]\n",
    "    \n",
    "    return matrix\n",
    "\n",
    "# Define the size of the matrix\n",
    "matrix_size = 10\n",
    "\n",
    "# Create an upper triangular binary matrix\n",
    "upper_triangular_matrix = create_upper_triangular_binary_matrix(matrix_size)\n",
    "\n",
    "print(\"Original Matrix:\")\n",
    "print(upper_triangular_matrix)\n",
    "\n",
    "# Perform mutation\n",
    "mutated_matrix = mutate_upper_triangular_binary(upper_triangular_matrix)\n",
    "\n",
    "print(\"Mutated Matrix:\")\n",
    "print(mutated_matrix)\n",
    "\n",
    "matrizFinal = mutated_matrix + mutated_matrix.T\n",
    "print(matrizFinal)"
   ]
  },
  {
   "cell_type": "code",
   "execution_count": null,
   "id": "1c3d8207-c2f4-43ec-909a-b4320d8dc661",
   "metadata": {},
   "outputs": [],
   "source": []
  },
  {
   "cell_type": "code",
   "execution_count": null,
   "id": "4e750613-649c-4b2c-9557-c263ad26d1d4",
   "metadata": {},
   "outputs": [],
   "source": []
  }
 ],
 "metadata": {
  "kernelspec": {
   "display_name": "ilumpy",
   "language": "python",
   "name": "ilumpy"
  },
  "language_info": {
   "codemirror_mode": {
    "name": "ipython",
    "version": 3
   },
   "file_extension": ".py",
   "mimetype": "text/x-python",
   "name": "python",
   "nbconvert_exporter": "python",
   "pygments_lexer": "ipython3",
   "version": "3.10.8"
  }
 },
 "nbformat": 4,
 "nbformat_minor": 5
}
