{
 "cells": [
  {
   "cell_type": "markdown",
   "id": "8ea05ee0",
   "metadata": {},
   "source": [
    "# <font size=6>Trabalho Final de Algoritmos Genéticos"
   ]
  },
  {
   "cell_type": "markdown",
   "id": "4b15f94e",
   "metadata": {},
   "source": [
    "___\n",
    "<font size=3>Este arquivo armazena as informações sobre o trabalho semestral desenvolvido na disciplina de **redes neurais e algoritmos genéticos por alunos da Ilum Escola de Ciência.**</font>\n",
    "\n",
    "___\n",
    "\n",
    "<font size=3>**Alunos:** Cauê Gomes Correia dos Santos, Izaque Junior Oliveira Silva e Karla Rovedo Pascoalini.</font> \n",
    "\n",
    "<font size=3>**Professor:** Daniel Roberto Cassar.</font> \n",
    "___"
   ]
  },
  {
   "cell_type": "markdown",
   "id": "3fc0bb35",
   "metadata": {},
   "source": [
    "<font size=3>O intuito deste trabalho é desenvolver um `Algoritmo Genético` que otimize a função objetivo `minimiza_energia`, que busca a menor energia de um conjunto de átomos qualquer. De acordo com o método de Huckel é possível calcular todas as energias possíveis a partir de todas as combinações possíveis dado apenas o número de átomos. A forma encontrada pelos alunos de como essa função calcula a menor energia tende a ser custosa computacionalmente, como se pode imaginar. Devido a esse problema, resolveu-se aplicar um algoritmo genético, de minimização, para que o custo computacional seja menor e que possamos obter sem testar todas as possibilidade, uma das menores energias do conjunto de átomos. Com o intuito de tornar mais claro o fato do código feito pelo aluno Cauê ser muito custoso computacionalmente, vamos demonstrar a equação que calcula a quantidade total de conformações possívels da molécula dado apenas o número de átomos:\n",
    "</font>\n",
    "\n",
    "$$\\text{c_Total} = 2^{\\frac{n(n-1)}{2}}$$\n",
    "\n",
    "<font size=3>Onde cT é u número de Conformações Totais e n o número de átomos. Note que quando olhamos \n",
    "    \n",
    "    Para um conjunto de 2 átomos, cT é igual a 2. \n",
    "    \n",
    "    Para n = 5, cT = 1024.\n",
    "    \n",
    "    Para n = 7, cT = 2.09 x 10^(6) ou ~2 milhões.\n",
    "    \n",
    "    Para n = 10, cT = 3.51 x 10^(13) ou ~35 trilhões.\n",
    "    \n",
    "Ou seja, cada átomo adicionado aumenta exponencialmente a quantidade de conformações totais. E isso é muito custoso. Foi necessário a utilização do HPC para calcular mais do que 7 átomos dado o poder computacional exigido."
   ]
  },
  {
   "cell_type": "markdown",
   "id": "abe704b3",
   "metadata": {},
   "source": [
    "## 1 - Importando as bibliotecas\n",
    "___ "
   ]
  },
  {
   "cell_type": "code",
   "execution_count": 1,
   "id": "8fb9d1a2",
   "metadata": {},
   "outputs": [],
   "source": [
    "import random\n",
    "import numpy as np\n",
    "from scripts import criaTriu\n",
    "from scripts import testaMatriz\n",
    "from scripts import energiaMin\n",
    "from scripts import fitness as funcao_objetivo\n",
    "from scripts import iniciaPopu\n",
    "from scripts import selecaoTorneio\n",
    "from scripts import cruzamento\n",
    "from scripts import mutaTriu"
   ]
  },
  {
   "cell_type": "markdown",
   "id": "b7645e73",
   "metadata": {},
   "source": [
    "## 2 - Código inicial não-otimizado\n",
    "### \"Nobody knows me like you do\" - Made For Me, Muni Long.\n",
    "___"
   ]
  },
  {
   "cell_type": "markdown",
   "id": "23ee765f",
   "metadata": {},
   "source": [
    "<font size=3>A função `energiaMin` recebe a quantidade de átomos que estarão presentes na molécula. A partir desses dados ela calcula a quantidade de possíveis arranjos entre esse átomos e gera todas as possíveis matrizes, que são `binárias`. Com as matrizes geradas na função acima, a função `testaMatriz` recebe as matrizes e calcula a energia total (`t_total`) de cada matriz e rotorna a `melhor matriz`, junto a seus `autovalores (em ordem crescente)` e a `menor energia encontrada`.</font>"
   ]
  },
  {
   "cell_type": "code",
   "execution_count": 2,
   "id": "3815067c-e837-4822-9ebe-628641c4ad91",
   "metadata": {
    "scrolled": true
   },
   "outputs": [
    {
     "name": "stdout",
     "output_type": "stream",
     "text": [
      "------------------------------------------------------------ Resultado ------------------------------------------------------------\n",
      "A matriz com o menor t_total associado é:\n",
      "[[ 0.  0. -1. -1.  0. -1.]\n",
      " [ 0.  0.  0. -1. -1. -1.]\n",
      " [-1.  0.  0.  0. -1. -1.]\n",
      " [-1. -1.  0.  0.  0. -1.]\n",
      " [ 0. -1. -1.  0.  0. -1.]\n",
      " [-1. -1. -1. -1. -1.  0.]]\n",
      "Com os autovalores [-3.4494897427831814, -0.6180339887498958, -0.6180339887498947, 1.4494897427831785, 1.6180339887498956, 1.6180339887498956]\n",
      "E com o valor associado de -9.371115440565944\n"
     ]
    }
   ],
   "source": [
    "matrizes = energiaMin(6)\n",
    "A = testaMatriz(matrizes)"
   ]
  },
  {
   "cell_type": "markdown",
   "id": "7e5a1ef0",
   "metadata": {},
   "source": [
    "## 3 - Código atual otimizado\n",
    "### \"O acaso vai me proteger\" - Epitáfio, Titãs\n",
    "___"
   ]
  },
  {
   "cell_type": "markdown",
   "id": "af9502a7",
   "metadata": {},
   "source": [
    "<font size=3>Na tentativa de resolver o problema de encontrar a menor energia com um custo computacional menor, desenvolvemos um código de algoritmo genético para otimizar o nosso objetivo, cuja `função objetivo` é o cálculo da energia total. Ao final, o algoritmo nos entregará o indivíduo com a menor `energia total` encontrada. É importante comentar que não necessáriamente o código devolve o mínimo global, ou seja a menor eneriga de todas as conformações, mas devolve a menor energia dadas as opções que ele seleciona.</font>"
   ]
  },
  {
   "cell_type": "markdown",
   "id": "76342b59",
   "metadata": {},
   "source": [
    "<font size=3>Nosso código contou com alterações nos operadores genéticos `cruzamento` e `mutação`, os quais adaptamos para resolver o nosso problema. Os operadores utilizados foram:</font>\n",
    "\n",
    "<font size=3>- Seleção: Seleção por torneio com 3 indivíduos.</font>\n",
    "\n",
    "\n",
    "<font size=3>- Cruzamento: Um novo cruzamento que apenas altera a matriz triangular superior.</font>\n",
    "\n",
    "\n",
    "<font size=3>- Mutação: Mutação simples, porém com a restrição de somente ocorrer fora e acima da diagonal principal.</font>\n",
    "\n",
    "\n",
    "<font size=3>- Hall da Fama: Indivíduo com a menor energia total encontrada.</font>\n"
   ]
  },
  {
   "cell_type": "code",
   "execution_count": 3,
   "id": "89494380",
   "metadata": {},
   "outputs": [],
   "source": [
    "def genetic_algorithm(pop_size, matrix_size, geracoes, chanceMutacao, chanceCruzamento):\n",
    "    # Initialize populacao\n",
    "    populacao = iniciaPopu(pop_size, matrix_size)\n",
    "    \n",
    "    for geracao in range(geracoes):\n",
    "        # Evaluate fitness of the populacao\n",
    "        valoresFit = [funcao_objetivo(hamiltoniano) for _, hamiltoniano in populacao]\n",
    "        \n",
    "        novaPop = []\n",
    "        \n",
    "        # Generate new populacao\n",
    "        for _ in range(pop_size // 2):\n",
    "            # Select parents\n",
    "            pai1 = selecaoTorneio(populacao, valoresFit)\n",
    "            pai2 = selecaoTorneio(populacao, valoresFit)\n",
    "            \n",
    "            # cruzamento\n",
    "            child1, child2 = cruzamento(pai1, pai2, chanceCruzamento)\n",
    "            \n",
    "            \n",
    "            # Mutate\n",
    "            lista_filhos = [child1[0], child2[0]]\n",
    "            \n",
    "            mutaTriu(lista_filhos, chanceMutacao)\n",
    "            \n",
    "            novaPop.extend([child1, child2])\n",
    "        \n",
    "        # Replace old populacao with new populacao\n",
    "        populacao = novaPop\n",
    "    \n",
    "    # Final populacao fitness evaluation\n",
    "    valoresFit = [funcao_objetivo(hamiltoniano) for _, hamiltoniano in populacao]\n",
    "    ganhador = populacao[np.argmin(valoresFit)]\n",
    "    \n",
    "    return ganhador, valoresFit"
   ]
  },
  {
   "cell_type": "code",
   "execution_count": 6,
   "id": "0085a55e",
   "metadata": {
    "scrolled": true
   },
   "outputs": [
    {
     "name": "stdout",
     "output_type": "stream",
     "text": [
      "Best solution found:\n",
      "[[0. 1. 1. 1. 0. 0.]\n",
      " [1. 0. 1. 0. 1. 0.]\n",
      " [1. 1. 0. 1. 1. 1.]\n",
      " [1. 0. 1. 0. 0. 1.]\n",
      " [0. 1. 1. 0. 0. 1.]\n",
      " [0. 0. 1. 1. 1. 0.]]\n",
      "Fitness of the best solution: -9.371115440565935\n"
     ]
    }
   ],
   "source": [
    "pop_size = 100\n",
    "matrix_size = 6\n",
    "geracoes = 80\n",
    "chanceCruzamento = 0.5\n",
    "chanceMutacao = 0.2\n",
    "\n",
    "melhorMatriz, fit = genetic_algorithm(pop_size, matrix_size, geracoes, chanceMutacao, chanceCruzamento)\n",
    "\n",
    "print(\"Best solution found:\")\n",
    "print(melhorMatriz[1])\n",
    "print(\"Fitness of the best solution:\", funcao_objetivo(melhorMatriz[1]))"
   ]
  },
  {
   "cell_type": "markdown",
   "id": "3f9e9436",
   "metadata": {},
   "source": [
    "## Referências Bibliográficas"
   ]
  },
  {
   "cell_type": "markdown",
   "id": "56df1cce",
   "metadata": {},
   "source": [
    "[1] CASSAR, D. - GA 4.2 - Notebook Descobrindo a senha.\n",
    "\n",
    "[2] SANTOS, C. ; LIMA, F. - Hamiltonian for n-site molecules."
   ]
  },
  {
   "cell_type": "code",
   "execution_count": null,
   "id": "5205b214-5c67-425e-a65a-f6d3f4e094dc",
   "metadata": {},
   "outputs": [],
   "source": []
  }
 ],
 "metadata": {
  "kernelspec": {
   "display_name": "ilumpy",
   "language": "python",
   "name": "ilumpy"
  },
  "language_info": {
   "codemirror_mode": {
    "name": "ipython",
    "version": 3
   },
   "file_extension": ".py",
   "mimetype": "text/x-python",
   "name": "python",
   "nbconvert_exporter": "python",
   "pygments_lexer": "ipython3",
   "version": "3.10.8"
  },
  "toc-showcode": true
 },
 "nbformat": 4,
 "nbformat_minor": 5
}
