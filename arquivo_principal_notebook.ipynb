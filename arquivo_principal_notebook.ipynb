{
 "cells": [
  {
   "cell_type": "markdown",
   "id": "87dc33b8",
   "metadata": {},
   "source": [
    "# Trabalho Final de Algoritmos Genéticos"
   ]
  },
  {
   "cell_type": "markdown",
   "id": "dbaa0c71",
   "metadata": {},
   "source": [
    "___\n",
    "\n",
    "<font size=3>Olá,</font> \n",
    "\n",
    "<font size=3>Este arquivo armazena as informações sobre o trabalho semestral desenvolvido na disciplina de **redes neurais e algoritmos genéticos por alunos da Ilum Escola de Ciência.**</font>\n",
    "\n",
    "___\n",
    "\n",
    "**Alunos:** Cauê Gomes Correia dos Santos, Izaque Junior Oliveira Silva e Karla Rovedo Pascoalini.\n",
    "\n",
    "**Professor:** Daniel Roberto Cassar\n",
    "___"
   ]
  },
  {
   "cell_type": "markdown",
   "id": "97fbfe36",
   "metadata": {},
   "source": [
    "<font size=3>O intuito deste trabalho é desenvolver um `Algoritmo Genético` que otimize a função `minimize_energy`, que busca a menor energia de uma molécula, de acordo com o método de Huckel, dado o número de átomos que a compõem, calculando todas as energias possíveis a partir de todas as combinações possíveis dado o número de átomos. A forma como essa função calcula a menor energia tende a ser custusa computacionalmente, como se pode imaginar. Devido a esse problema, uma otmização é necessária para que o custo computacional seja menor e possamos obter a menor energia da molécula almejada.</font>"
   ]
  },
  {
   "cell_type": "markdown",
   "id": "3e5bcc94",
   "metadata": {},
   "source": [
    "### 1 - Importando as bibliotecas\n",
    "___ "
   ]
  },
  {
   "cell_type": "code",
   "execution_count": 1,
   "id": "54b484ba",
   "metadata": {},
   "outputs": [],
   "source": [
    "import numpy as np \n",
    "import networkx as nx\n",
    "from pyvis import network as net\n",
    "from otimizando_menor_energia import create_upper_triangular_binary_matrix as create_traingular_umatrix"
   ]
  },
  {
   "cell_type": "markdown",
   "id": "ee3eff71",
   "metadata": {},
   "source": [
    "## 2 - How many atoms does your molecule have?\n",
    "___"
   ]
  },
  {
   "cell_type": "markdown",
   "id": "d6d44ff7",
   "metadata": {},
   "source": [
    "<font size=3>A função `draw_graph` foi desenvolvida para plotar o grafo da molécula de menor energia que resultou da função `minimize_energy` dado um conjunto de átomos.</font>"
   ]
  },
  {
   "cell_type": "code",
   "execution_count": 2,
   "id": "da4ca9ac-5935-479d-bf84-0f333561d753",
   "metadata": {},
   "outputs": [],
   "source": [
    "def draw_graph(networkx_graph,notebook=True,output_filename='graph.html',show_buttons=True,only_physics_buttons=True):\n",
    "    \"\"\"\n",
    "    This function accepts a networkx graph object,\n",
    "    converts it to a pyvis network object preserving its node and edge attributes,\n",
    "    and both returns and saves a dynamic network visualization.\n",
    "    \n",
    "    Args:\n",
    "        networkx_graph: The graph to convert and display\n",
    "        notebook: Display in Jupyter?\n",
    "        output_filename: Where to save the converted network\n",
    "        show_buttons: Show buttons in saved version of network?\n",
    "        only_physics_buttons: Show only buttons controlling physics of network?\n",
    "    \"\"\"\n",
    "    \n",
    "    # make a pyvis network\n",
    "    pyvis_graph = net.Network(notebook=notebook)\n",
    "    \n",
    "    # for each node and its attributes in the networkx graph\n",
    "    for node,node_attrs in networkx_graph.nodes(data=True):\n",
    "        pyvis_graph.add_node(str(node),**node_attrs)\n",
    "        \n",
    "    # for each edge and its attributes in the networkx graph\n",
    "    for source,target,edge_attrs in networkx_graph.edges(data=True):\n",
    "        # if value/width not specified directly, and weight is specified, set 'value' to 'weight'\n",
    "        if not 'value' in edge_attrs and not 'width' in edge_attrs and 'weight' in edge_attrs:\n",
    "            # place at key 'value' the weight of the edge\n",
    "            edge_attrs['value']=edge_attrs['weight']\n",
    "        # add the edge\n",
    "        pyvis_graph.add_edge(str(source),str(target),**edge_attrs)\n",
    "        \n",
    "    # turn buttons on\n",
    "    if show_buttons:\n",
    "        if only_physics_buttons:\n",
    "            pyvis_graph.show_buttons(filter_=['physics'])\n",
    "        else:\n",
    "            pyvis_graph.show_buttons()\n",
    "    #net.repulsion(node_distance=500, spring_length=200)\n",
    "    # return and also save\n",
    "    return pyvis_graph.show(output_filename)\n",
    "\n"
   ]
  },
  {
   "cell_type": "code",
   "execution_count": 4,
   "id": "3815067c-e837-4822-9ebe-628641c4ad91",
   "metadata": {
    "scrolled": true
   },
   "outputs": [
    {
     "name": "stdout",
     "output_type": "stream",
     "text": [
      "------------------------------------------------------------ Resultado ------------------------------------------------------------\n",
      "A matriz com o menor t_total associado é:\n",
      "[[ 0.  0. -1. -1.  0. -1.]\n",
      " [ 0.  0.  0. -1. -1. -1.]\n",
      " [-1.  0.  0.  0. -1. -1.]\n",
      " [-1. -1.  0.  0.  0. -1.]\n",
      " [ 0. -1. -1.  0.  0. -1.]\n",
      " [-1. -1. -1. -1. -1.  0.]]\n",
      "Com os autovalores [-3.4494897427831814, -0.6180339887498958, -0.6180339887498947, 1.4494897427831785, 1.6180339887498956, 1.6180339887498956]\n",
      "E com o valor associado de -9.371115440565944\n"
     ]
    }
   ],
   "source": [
    "def Minimiza_Energia(quantidade_atomos):\n",
    "    matrizes = []\n",
    "    \n",
    "    # Gerar todas as possíveis matrizes\n",
    "    for i in range(2 ** (quantidade_atomos * (quantidade_atomos - 1) // 2)):\n",
    "        H = np.zeros((quantidade_atomos, quantidade_atomos))\n",
    "        bits = list(format(i, 'b').zfill(quantidade_atomos * (quantidade_atomos - 1) // 2))\n",
    "        bit_index = 0\n",
    "        \n",
    "        # Preencher a matriz com os valores adequados\n",
    "        for j in range(quantidade_atomos):\n",
    "            for k in range(j + 1, quantidade_atomos):\n",
    "                if bits[bit_index] == '1':\n",
    "                    H[j][k] = -1\n",
    "                    H[k][j] = -1\n",
    "                bit_index += 1\n",
    "        \n",
    "        matrizes.append(H)\n",
    "    \n",
    "    return matrizes\n",
    "\n",
    "def testar_matrizes(matrizes):\n",
    "    t_menor = float('inf')  # Set initial smallest t_total to infinity\n",
    "    melhor_matrix = None  # Initialize the matrix with the smallest t_total\n",
    "\n",
    "    for H in matrizes:\n",
    "        eigenvals = np.linalg.eigvals(H)\n",
    "        autovalores = sorted(eigenvals.real)\n",
    "        \n",
    "        e = H.shape[0]\n",
    "        \n",
    "        if e % 2 == 0:\n",
    "            ocupados = e // 2 \n",
    "        elif e % 2 == 1:\n",
    "            ocupados = e // 2 + 1\n",
    "        \n",
    "        t_total = 0\n",
    "        for n in range(e//2):\n",
    "            t_total += 2 * autovalores[n]\n",
    "        if(e%2==1):\n",
    "            t_total += autovalores[e//2]\n",
    "\n",
    "        if t_total < t_menor:\n",
    "            melhor_auto = autovalores\n",
    "            t_menor = t_total\n",
    "            melhor_matrix = H\n",
    "\n",
    "    print(60 * '-', 'Resultado', 60 * '-')\n",
    "    print(f'A matriz com o menor t_total associado é:')\n",
    "    print(melhor_matrix)\n",
    "    print(f'Com os autovalores {melhor_auto}')\n",
    "    print(f'E com o valor associado de {t_menor}')\n",
    "    return melhor_matrix\n",
    "\n",
    "matrizes = Minimiza_Energia(6)\n",
    "A = testar_matrizes(matrizes)\n",
    "\n",
    "G=nx.from_numpy_array(A)\n",
    "#nx.draw(G, with_labels=True)\n",
    "#draw_graph(G)\n"
   ]
  },
  {
   "cell_type": "code",
   "execution_count": 5,
   "id": "e2ccdcbd",
   "metadata": {},
   "outputs": [],
   "source": [
    "# Mutate the matrix by flipping a randomly chosen element in the upper triangular part (excluding the main diagonal)\n",
    "def mutate_upper_triangular_binary(matrix):\n",
    "\n",
    "    '''\n",
    "    Muta uma matrix triangular superior, trocando um elemento \n",
    "    aleatório (fora da diagonal) de 0 para 1, ou vice-versa.\n",
    "\n",
    "    arg: Matriz triangular superior\n",
    "    return: Matriz triangular superior com uma mutação\n",
    "    '''\n",
    "    size = matrix.shape[0]\n",
    "    \n",
    "    # Escolhe um elemento aleatório (tirando a diagonal)\n",
    "    i = np.random.randint(0, size - 1)\n",
    "    j = np.random.randint(i + 1, size)  # Assegura que estará acima da diagonal principal\n",
    "    \n",
    "    # Flipa o valor do elemento escolhido\n",
    "    matrix[i, j] = 1 - matrix[i, j]\n",
    "    \n",
    "    return matrix"
   ]
  },
  {
   "cell_type": "code",
   "execution_count": null,
   "id": "64256bb2",
   "metadata": {},
   "outputs": [],
   "source": []
  }
 ],
 "metadata": {
  "kernelspec": {
   "display_name": "ilumpy",
   "language": "python",
   "name": "ilumpy"
  },
  "language_info": {
   "codemirror_mode": {
    "name": "ipython",
    "version": 3
   },
   "file_extension": ".py",
   "mimetype": "text/x-python",
   "name": "python",
   "nbconvert_exporter": "python",
   "pygments_lexer": "ipython3",
   "version": "3.10.8"
  },
  "toc-showcode": true
 },
 "nbformat": 4,
 "nbformat_minor": 5
}
