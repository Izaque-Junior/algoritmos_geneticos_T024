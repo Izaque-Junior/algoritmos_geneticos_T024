{
 "cells": [
  {
   "cell_type": "markdown",
   "id": "8ea05ee0",
   "metadata": {},
   "source": [
    "# <font size=6>Trabalho Final de Algoritmos Genéticos"
   ]
  },
  {
   "cell_type": "markdown",
   "id": "4b15f94e",
   "metadata": {},
   "source": [
    "___\n",
    "\n",
    "<font size=3>Olá,</font> \n",
    "\n",
    "<font size=3>Este arquivo armazena as informações sobre o trabalho semestral desenvolvido na disciplina de **redes neurais e algoritmos genéticos por alunos da Ilum Escola de Ciência.**</font>\n",
    "\n",
    "___\n",
    "\n",
    "<font size=3>**Alunos:** Cauê Gomes Correia dos Santos, Izaque Junior Oliveira Silva e Karla Rovedo Pascoalini.</font> \n",
    "\n",
    "<font size=3>**Professor:** Daniel Roberto Cassar.</font> \n",
    "___"
   ]
  },
  {
   "cell_type": "markdown",
   "id": "3fc0bb35",
   "metadata": {},
   "source": [
    "<font size=3>O intuito deste trabalho é desenvolver um `Algoritmo Genético` que otimize a função `minimiza_energia`, que busca a menor energia de uma molécula, de acordo com o método de Huckel, dado o número de átomos que a compõem, calculando todas as energias possíveis a partir de todas as combinações possíveis dado o número de átomos. A forma como essa função calcula a menor energia tende a ser custusa computacionalmente, como se pode imaginar. Devido a esse problema, uma otmização é necessária para que o custo computacional seja menor e possamos obter a menor energia da molécula almejada.</font>"
   ]
  },
  {
   "cell_type": "markdown",
   "id": "abe704b3",
   "metadata": {},
   "source": [
    "## 1 - Importando as bibliotecas\n",
    "___ "
   ]
  },
  {
   "cell_type": "code",
   "execution_count": 1,
   "id": "8fb9d1a2",
   "metadata": {},
   "outputs": [],
   "source": [
    "from otimizando_menor_energia import create_upper_triangular_binary_matrix as create_traingular_umatrix\n",
    "from otimizando_menor_energia import draw_graph as drawn\n",
    "from otimizando_menor_energia import testar_matrizes\n",
    "from otimizando_menor_energia import minimiza_energia\n",
    "from otimizando_menor_energia import fitness as funcao_objetivo\n",
    "from otimizando_menor_energia import initialize_population as inicializador#initialize_population\n",
    "from otimizando_menor_energia import tournament_selection"
   ]
  },
  {
   "cell_type": "code",
   "execution_count": 13,
   "id": "d1ca3753",
   "metadata": {},
   "outputs": [],
   "source": [
    "import random\n",
    "import numpy as np"
   ]
  },
  {
   "cell_type": "markdown",
   "id": "7f119cdc",
   "metadata": {},
   "source": [
    "<font size=3>A função `drawn` foi desenvolvida para plotar o grafo da molécula de menor energia que resultou da função `minimiza_energia` dado um conjunto de átomos.</font>"
   ]
  },
  {
   "cell_type": "markdown",
   "id": "b7645e73",
   "metadata": {},
   "source": [
    "## 2 - Nobody knows how many possibles...\n",
    "___"
   ]
  },
  {
   "cell_type": "markdown",
   "id": "23ee765f",
   "metadata": {},
   "source": [
    "<font size=3>A função `minimiza_energia` recebe a quantidade de átomos que estarão presentes na molécula. A partir desses dados ela calcula a quantidade de possíveis arranjos entre esse átomos e gera todas as possíveis matrizes, que são `binárias`. Com as matrizes geradas na função acima, a função `testa_matrizes` recebe as matrizes e calcula a energia total (`t_total`) de cada matriz e rotorna a `melhor matriz`, junto a seus `autovalores (em ordem crescente)` e a `menor energia encontrada`.</font>"
   ]
  },
  {
   "cell_type": "code",
   "execution_count": 4,
   "id": "3815067c-e837-4822-9ebe-628641c4ad91",
   "metadata": {
    "scrolled": true
   },
   "outputs": [
    {
     "name": "stdout",
     "output_type": "stream",
     "text": [
      "------------------------------------------------------------ Resultado ------------------------------------------------------------\n",
      "A matriz com o menor t_total associado é:\n",
      "[[ 0.  0. -1. -1.  0. -1.]\n",
      " [ 0.  0.  0. -1. -1. -1.]\n",
      " [-1.  0.  0.  0. -1. -1.]\n",
      " [-1. -1.  0.  0.  0. -1.]\n",
      " [ 0. -1. -1.  0.  0. -1.]\n",
      " [-1. -1. -1. -1. -1.  0.]]\n",
      "Com os autovalores [-3.4494897427831814, -0.6180339887498958, -0.6180339887498947, 1.4494897427831785, 1.6180339887498956, 1.6180339887498956]\n",
      "E com o valor associado de -9.371115440565944\n"
     ]
    }
   ],
   "source": [
    "matrizes = minimiza_energia(6)\n",
    "A = testar_matrizes(matrizes)\n",
    "\n",
    "G=nx.from_numpy_array(A)\n",
    "#nx.draw(G, with_labels=True)\n",
    "#draw_graph(G)"
   ]
  },
  {
   "cell_type": "markdown",
   "id": "7e5a1ef0",
   "metadata": {},
   "source": [
    "## 3 - Talvez o acaso me ajude...\n",
    "___"
   ]
  },
  {
   "cell_type": "markdown",
   "id": "af9502a7",
   "metadata": {},
   "source": [
    "<font size=3>Na tentativa de resolver o problema de encontrar a menor energia com um custo computacional menor, desenvolvemos um código de algoritmo genético para otimizar o nosso objetivo, cuja `função objetivo` é encontrar a energia total. Ao final, o algoritmo nos entregará o indivíduo com a menor `energia total` encontrada.</font>"
   ]
  },
  {
   "cell_type": "markdown",
   "id": "76342b59",
   "metadata": {},
   "source": [
    "<font size=3>Nosso código contou com alterações nos operadores genéticos `cruzamento` e `mutação`, os quais adaptamos para resolver o nosso problema. Os operadores utilizados foram:</font>\n",
    "\n",
    "<font size=3>- Seleção: seleção por torneio com 3 indivíduos.</font>\n",
    "\n",
    "\n",
    "<font size=3>- Cruzamento: um novo cruzamento (verificar isso) que apenas altera a triangular superior ou inferior de uma matriz.</font>\n",
    "\n",
    "\n",
    "<font size=3>- Mutação: mutação simples, porém com a restrição de somente ocorrer fora e acima da diagonal principal.</font>\n",
    "\n",
    "\n",
    "<font size=3>- Hall da Fama: indivíduo com a menor energia total encontrada.</font>\n"
   ]
  },
  {
   "cell_type": "code",
   "execution_count": 21,
   "id": "d7cabeb1",
   "metadata": {},
   "outputs": [],
   "source": [
    "#Mutacao (aparentemente atualizado)\n",
    "# Mutate the matrix by flipping a randomly chosen element in the upper triangular part (excluding the main diagonal)\n",
    "def mutate_upper_triangular_binary(individuos, chance_mutacao):\n",
    "    '''\n",
    "    Muta uma matrix triangular superior, trocando um elemento \n",
    "    aleatório (fora da diagonal) de 0 para 1, ou vice-versa.\n",
    "\n",
    "    Arg: \n",
    "        individuos: lista contendo as matrizes triangulares superiores\n",
    "        chance_mutacao: float que define o limiar da chance de ocorrer mutação no indivíduo\n",
    "        \n",
    "    return: \n",
    "        retorna uma matriz triangular superior com uma mutação\n",
    "    '''\n",
    "    size = 0\n",
    "    for individuo in individuos:\n",
    "        size = individuo.shape[0]\n",
    "        if random.random() < chance_mutacao:\n",
    "\n",
    "            # Escolhe um elemento aleatório (tirando a diagonal)\n",
    "            i = np.random.randint(0, size - 1)\n",
    "            j = np.random.randint(i + 1, size)  # Assegura que estará acima da diagonal principal\n",
    "\n",
    "            # Flipa o valor do elemento escolhido\n",
    "            individuo[i, j] = 1 - individuo[i, j]"
   ]
  },
  {
   "cell_type": "code",
   "execution_count": 14,
   "id": "2379a3c3",
   "metadata": {},
   "outputs": [],
   "source": [
    "# Crossover function\n",
    "def crossover(parent1, parent2, chance_cruzamento):\n",
    "    '''\n",
    "    Realiza o cruzamento entre dois pais para gerar um filho.\n",
    "\n",
    "    Args:\n",
    "        parent1: Tupla contendo a matriz triangular superior e a matriz simétrica correspondente do primeiro pai.\n",
    "        parent2: Tupla contendo a matriz triangular superior e a matriz simétrica correspondente do segundo pai.\n",
    "    \n",
    "    return: \n",
    "        retorna uma tupla contendo a matriz triangular superior e a matriz simétrica correspondente do filho gerado.\n",
    "    '''\n",
    "    \n",
    "    upper_tri1, _ = parent1\n",
    "    upper_tri2, _ = parent2\n",
    "    if random.random() < chance_cruzamento:\n",
    "        child1 = []\n",
    "        child2 = []\n",
    "        size = upper_tri1.shape[0]\n",
    "        \n",
    "        crossover_point = np.random.randint(1, size)\n",
    "        \n",
    "        child1 = np.zeros((size, size)) #criando matriz de zeros para o filho 1\n",
    "        child2 = np.zeros((size, size)) #criando matriz de zeros para o filho 2\n",
    "        \n",
    "\n",
    "        # Copy upper part from parent1 and lower part from parent2\n",
    "        for i in range(size):\n",
    "            for j in range(size):\n",
    "                if j >= crossover_point:\n",
    "                    child1[i, j] = upper_tri1[i, j]\n",
    "                    child2[i, j] = upper_tri2[i, j]\n",
    "                else:\n",
    "                    child1[i, j] = upper_tri2[i, j]\n",
    "                    child2[i, j] = upper_tri2[i, j]\n",
    "\n",
    "        child1_combined = child1 + child1.T\n",
    "        child2_combined = child2 + child2.T\n",
    "        \n",
    "        filho1 = (child1, child1_combined)\n",
    "        filho2 = (child2, child2_combined)\n",
    "        \n",
    "        return filho1, filho2\n",
    "    \n",
    "    else:\n",
    "        return parent1, parent2\n",
    "    "
   ]
  },
  {
   "cell_type": "code",
   "execution_count": 38,
   "id": "89494380",
   "metadata": {},
   "outputs": [],
   "source": [
    "# Genetic Algorithm\n",
    "def genetic_algorithm(pop_size, matrix_size, generations, chance_mutacao, chance_cruzamento):\n",
    "    # Initialize population\n",
    "    population = inicializador(pop_size, matrix_size)\n",
    "    \n",
    "    for generation in range(generations):\n",
    "        # Evaluate fitness of the population\n",
    "        fitnesses = [funcao_objetivo(combined_matrix) for _, combined_matrix in population]\n",
    "        \n",
    "        new_population = []\n",
    "        \n",
    "        # Generate new population\n",
    "        for _ in range(pop_size // 2):\n",
    "            # Select parents\n",
    "            parent1 = tournament_selection(population, fitnesses)\n",
    "            parent2 = tournament_selection(population, fitnesses)\n",
    "            \n",
    "            # Crossover\n",
    "            child1, child2 = crossover(parent1, parent2, chance_cruzamento)\n",
    "            \n",
    "            \n",
    "            # Mutate\n",
    "            lista_filhos = [child1[0], child2[0]]\n",
    "            \n",
    "            mutate_upper_triangular_binary(lista_filhos, chance_mutacao)#, child1[0] + child1[0].T)\n",
    "            #child2 = (mutate_upper_triangular_binary(child2[0]), child2[0] + child2[0].T)\n",
    "            \n",
    "            new_population.extend([child1, child2])\n",
    "            #print(new_population)\n",
    "        \n",
    "        # Replace old population with new population\n",
    "        population = new_population\n",
    "    \n",
    "    # Final population fitness evaluation\n",
    "    fitnesses = [funcao_objetivo(combined_matrix) for _, combined_matrix in population]\n",
    "    best_individual = population[np.argmin(fitnesses)]\n",
    "    \n",
    "    return best_individual, fitnesses"
   ]
  },
  {
   "cell_type": "code",
   "execution_count": 48,
   "id": "0085a55e",
   "metadata": {
    "scrolled": true
   },
   "outputs": [
    {
     "name": "stdout",
     "output_type": "stream",
     "text": [
      "Best solution found:\n",
      "[[0. 1. 1. 1. 0. 0. 0.]\n",
      " [1. 0. 1. 1. 1. 1. 0.]\n",
      " [1. 1. 0. 0. 1. 0. 1.]\n",
      " [1. 1. 0. 0. 0. 1. 1.]\n",
      " [0. 1. 1. 0. 0. 1. 1.]\n",
      " [0. 1. 0. 1. 1. 0. 1.]\n",
      " [0. 0. 1. 1. 1. 1. 0.]]\n",
      "Fitness of the best solution: -11.069194527751078\n"
     ]
    }
   ],
   "source": [
    "pop_size = 100\n",
    "matrix_size = 7\n",
    "generations = 80\n",
    "CHANCE_CRUZAMENTO = 0.5\n",
    "CHANCE_MUTACAO = 0.2\n",
    "# Run genetic algorithm\n",
    "best_solution, fit = genetic_algorithm(pop_size, matrix_size, generations, CHANCE_MUTACAO, CHANCE_CRUZAMENTO)\n",
    "\n",
    "print(\"Best solution found:\")\n",
    "print(best_solution[1])  # Print the combined matrix\n",
    "print(\"Fitness of the best solution:\", funcao_objetivo(best_solution[1]))"
   ]
  },
  {
   "cell_type": "markdown",
   "id": "3f9e9436",
   "metadata": {},
   "source": [
    "## Referências Bibliográficas"
   ]
  },
  {
   "cell_type": "markdown",
   "id": "56df1cce",
   "metadata": {},
   "source": [
    "[1] Cassar, Daniel Roberto. GA 4.2 - Notebook Descobrindo a senha.\n",
    "\n",
    "[2] Santos, Cauê Gomes Correia dos. "
   ]
  }
 ],
 "metadata": {
  "kernelspec": {
   "display_name": "ilumpy",
   "language": "python",
   "name": "ilumpy"
  },
  "language_info": {
   "codemirror_mode": {
    "name": "ipython",
    "version": 3
   },
   "file_extension": ".py",
   "mimetype": "text/x-python",
   "name": "python",
   "nbconvert_exporter": "python",
   "pygments_lexer": "ipython3",
   "version": "3.10.8"
  },
  "toc-showcode": true
 },
 "nbformat": 4,
 "nbformat_minor": 5
}
